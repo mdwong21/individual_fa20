{
 "cells": [
  {
   "cell_type": "markdown",
   "metadata": {},
   "source": [
    "# COGS 108 - Final Project "
   ]
  },
  {
   "cell_type": "markdown",
   "metadata": {},
   "source": [
    "# Overview"
   ]
  },
  {
   "cell_type": "markdown",
   "metadata": {},
   "source": [
    "This project seeks to find a correlation between park walkability and visitor satisfaction. I used data from Yelp to compare the average score of each park to several specific reviews that mention walking. Then, I briefly examined the trend of Yelp reviews themselves. I could find no correlation between park walkability and visitor satisfaction, but further research should be performed to reach a concrete conclusion."
   ]
  },
  {
   "cell_type": "markdown",
   "metadata": {},
   "source": [
    "# Name & GitHub\n",
    "\n",
    "- Name: Matt Wong\n",
    "- GitHub Username: mdwong21"
   ]
  },
  {
   "cell_type": "markdown",
   "metadata": {},
   "source": [
    "# Research Question"
   ]
  },
  {
   "cell_type": "markdown",
   "metadata": {},
   "source": [
    "Does the walkability of parks in San Diego significantly contribute to visitor satisfaction?"
   ]
  },
  {
   "cell_type": "markdown",
   "metadata": {},
   "source": [
    "## Background and Prior Work"
   ]
  },
  {
   "cell_type": "markdown",
   "metadata": {},
   "source": [
    "People choose to utilize parks for a variety of reasons, and many parks offer a wide variety of attractions. Nearly every park, naturally, includes some accomodations for walking. Visiting a park has been shown to have positive affects on the human body, physically and mentally (1), so understanding how a park can better cater to these needs may improve its affect on the community. Visitor use is something that is often tracked by the National Park Service (2), lending weight to its importance, but for the scope of this project, I will be focusing on the areas local to San Diego.\n",
    "\n",
    "References (include links):\n",
    "- 1) https://cnr.ncsu.edu/news/2015/11/why-a-trip-to-the-park-is-good-for-your-health/\n",
    "- 2) https://www.nps.gov/subjects/socialscience/visitor-use.htm"
   ]
  },
  {
   "cell_type": "markdown",
   "metadata": {},
   "source": [
    "# Hypothesis\n"
   ]
  },
  {
   "cell_type": "markdown",
   "metadata": {},
   "source": [
    "I believe that walkability will have a positive impact on visitor satisfaction on an individual level (to those who went looking for a walk), but will likely not show a significant change in average satisfaction among all visitors."
   ]
  },
  {
   "cell_type": "markdown",
   "metadata": {},
   "source": [
    "# Dataset(s)"
   ]
  },
  {
   "cell_type": "markdown",
   "metadata": {},
   "source": [
    "- Dataset Name: Yelp Data for San Deigo Parks, Park Information\n",
    "- Link to the dataset: https://github.com/COGS108/individual_fa20/blob/master/data/yelp_SD_parks.csv\n",
    "- Number of observations: 833\n",
    "- Description: This is a collection of different San Diego parks and their information from Yelp, including location, phone number, and average Yelp review score.\n",
    "\n",
    "\n",
    "\n",
    "- Dataset Name: Yelp Data for San Deigo Parks, Reviews\n",
    "- Link to the dataset: https://github.com/COGS108/individual_fa20/blob/master/data/yelp_SD_reviews.csv\n",
    "- Number of observations: 2333\n",
    "- Description: This is a collection of curated Yelp reviews relating to the above parks, including a rating and part of the review text.\n",
    "\n",
    "I intend to isolate reviews that specifically mention walking to see how their score relates to the overall average Yelp review score for each park."
   ]
  },
  {
   "cell_type": "markdown",
   "metadata": {},
   "source": [
    "# Setup"
   ]
  },
  {
   "cell_type": "code",
   "execution_count": 1,
   "metadata": {},
   "outputs": [],
   "source": [
    "import numpy as np\n",
    "import pandas as pd\n",
    "import matplotlib.pyplot as plt\n",
    "import seaborn as sns"
   ]
  },
  {
   "cell_type": "markdown",
   "metadata": {},
   "source": [
    "# Data Cleaning"
   ]
  },
  {
   "cell_type": "markdown",
   "metadata": {},
   "source": [
    "Describe your data cleaning steps here."
   ]
  },
  {
   "cell_type": "code",
   "execution_count": 2,
   "metadata": {},
   "outputs": [],
   "source": [
    "df_parks = pd.read_csv('https://raw.githubusercontent.com/COGS108/individual_fa20/master/data/yelp_SD_parks.csv')\n",
    "df_reviews = pd.read_csv('https://raw.githubusercontent.com/COGS108/individual_fa20/master/data/yelp_SD_reviews.csv')"
   ]
  },
  {
   "cell_type": "code",
   "execution_count": 3,
   "metadata": {},
   "outputs": [
    {
     "data": {
      "text/html": [
       "<div>\n",
       "<style scoped>\n",
       "    .dataframe tbody tr th:only-of-type {\n",
       "        vertical-align: middle;\n",
       "    }\n",
       "\n",
       "    .dataframe tbody tr th {\n",
       "        vertical-align: top;\n",
       "    }\n",
       "\n",
       "    .dataframe thead th {\n",
       "        text-align: right;\n",
       "    }\n",
       "</style>\n",
       "<table border=\"1\" class=\"dataframe\">\n",
       "  <thead>\n",
       "    <tr style=\"text-align: right;\">\n",
       "      <th></th>\n",
       "      <th>name</th>\n",
       "      <th>address</th>\n",
       "      <th>phone</th>\n",
       "      <th>id</th>\n",
       "      <th>url</th>\n",
       "      <th>rating</th>\n",
       "      <th>review_count</th>\n",
       "      <th>longitude</th>\n",
       "      <th>latitude</th>\n",
       "      <th>is_closed</th>\n",
       "    </tr>\n",
       "  </thead>\n",
       "  <tbody>\n",
       "    <tr>\n",
       "      <th>0</th>\n",
       "      <td>Balboa Park</td>\n",
       "      <td>1549 El Prado San Diego, CA 92101</td>\n",
       "      <td>1.619239e+10</td>\n",
       "      <td>9M_FW_-Ipx93I36w-_ykBg</td>\n",
       "      <td>https://www.yelp.com/biz/balboa-park-san-diego...</td>\n",
       "      <td>5.0</td>\n",
       "      <td>2105</td>\n",
       "      <td>-117.153150</td>\n",
       "      <td>32.734502</td>\n",
       "      <td>False</td>\n",
       "    </tr>\n",
       "    <tr>\n",
       "      <th>1</th>\n",
       "      <td>Civita Park</td>\n",
       "      <td>7960 Civita Blvd San Diego, CA 92108</td>\n",
       "      <td>NaN</td>\n",
       "      <td>3AEHjqNrTmggA6G9VdhQfg</td>\n",
       "      <td>https://www.yelp.com/biz/civita-park-san-diego...</td>\n",
       "      <td>4.5</td>\n",
       "      <td>46</td>\n",
       "      <td>-117.147278</td>\n",
       "      <td>32.778315</td>\n",
       "      <td>False</td>\n",
       "    </tr>\n",
       "    <tr>\n",
       "      <th>2</th>\n",
       "      <td>Waterfront Park</td>\n",
       "      <td>1600 Pacific Hwy San Diego, CA 92101</td>\n",
       "      <td>1.619233e+10</td>\n",
       "      <td>3unbJeYrn1RmInZGmjp80g</td>\n",
       "      <td>https://www.yelp.com/biz/waterfront-park-san-d...</td>\n",
       "      <td>4.5</td>\n",
       "      <td>242</td>\n",
       "      <td>-117.172479</td>\n",
       "      <td>32.721952</td>\n",
       "      <td>False</td>\n",
       "    </tr>\n",
       "    <tr>\n",
       "      <th>3</th>\n",
       "      <td>Trolley Barn Park</td>\n",
       "      <td>Adams Ave And Florida St San Diego, CA 92116</td>\n",
       "      <td>NaN</td>\n",
       "      <td>PvHxIYrmaiFKdWUDTMDzcg</td>\n",
       "      <td>https://www.yelp.com/biz/trolley-barn-park-san...</td>\n",
       "      <td>4.5</td>\n",
       "      <td>102</td>\n",
       "      <td>-117.143789</td>\n",
       "      <td>32.762463</td>\n",
       "      <td>False</td>\n",
       "    </tr>\n",
       "    <tr>\n",
       "      <th>4</th>\n",
       "      <td>Bay View Park</td>\n",
       "      <td>413 1st St Coronado, CA 92118</td>\n",
       "      <td>NaN</td>\n",
       "      <td>6IF4VB9-fkv_F-LBvG8ppQ</td>\n",
       "      <td>https://www.yelp.com/biz/bay-view-park-coronad...</td>\n",
       "      <td>5.0</td>\n",
       "      <td>42</td>\n",
       "      <td>-117.178967</td>\n",
       "      <td>32.701785</td>\n",
       "      <td>False</td>\n",
       "    </tr>\n",
       "  </tbody>\n",
       "</table>\n",
       "</div>"
      ],
      "text/plain": [
       "                name                                       address  \\\n",
       "0        Balboa Park             1549 El Prado San Diego, CA 92101   \n",
       "1        Civita Park          7960 Civita Blvd San Diego, CA 92108   \n",
       "2    Waterfront Park          1600 Pacific Hwy San Diego, CA 92101   \n",
       "3  Trolley Barn Park  Adams Ave And Florida St San Diego, CA 92116   \n",
       "4      Bay View Park                 413 1st St Coronado, CA 92118   \n",
       "\n",
       "          phone                      id  \\\n",
       "0  1.619239e+10  9M_FW_-Ipx93I36w-_ykBg   \n",
       "1           NaN  3AEHjqNrTmggA6G9VdhQfg   \n",
       "2  1.619233e+10  3unbJeYrn1RmInZGmjp80g   \n",
       "3           NaN  PvHxIYrmaiFKdWUDTMDzcg   \n",
       "4           NaN  6IF4VB9-fkv_F-LBvG8ppQ   \n",
       "\n",
       "                                                 url  rating  review_count  \\\n",
       "0  https://www.yelp.com/biz/balboa-park-san-diego...     5.0          2105   \n",
       "1  https://www.yelp.com/biz/civita-park-san-diego...     4.5            46   \n",
       "2  https://www.yelp.com/biz/waterfront-park-san-d...     4.5           242   \n",
       "3  https://www.yelp.com/biz/trolley-barn-park-san...     4.5           102   \n",
       "4  https://www.yelp.com/biz/bay-view-park-coronad...     5.0            42   \n",
       "\n",
       "    longitude   latitude  is_closed  \n",
       "0 -117.153150  32.734502      False  \n",
       "1 -117.147278  32.778315      False  \n",
       "2 -117.172479  32.721952      False  \n",
       "3 -117.143789  32.762463      False  \n",
       "4 -117.178967  32.701785      False  "
      ]
     },
     "execution_count": 3,
     "metadata": {},
     "output_type": "execute_result"
    }
   ],
   "source": [
    "df_parks.head()"
   ]
  },
  {
   "cell_type": "code",
   "execution_count": 4,
   "metadata": {},
   "outputs": [],
   "source": [
    "# drop columns that aren't relevant to the question\n",
    "df_parks = df_parks.drop(columns = ['address', 'phone', 'id', 'url', 'longitude', 'latitude', 'is_closed'])\n",
    "\n",
    "# some parks are repeated with different ratings, combine them and average the rating\n",
    "df_parks = df_parks.groupby('name').agg({'rating': 'mean', 'review_count': 'first'})\n",
    "\n",
    "# rename columns in df_reviews for better identification when compared to df_parks\n",
    "df_reviews = df_reviews.rename(columns={'id': 'name', 'rating': 'indiv_score'})"
   ]
  },
  {
   "cell_type": "code",
   "execution_count": 5,
   "metadata": {},
   "outputs": [],
   "source": [
    "# merge the data to a single dataframe\n",
    "df = pd.merge(df_parks, df_reviews, on='name')"
   ]
  },
  {
   "cell_type": "code",
   "execution_count": 6,
   "metadata": {},
   "outputs": [],
   "source": [
    "# this isolates the reviews that specifically mention walking\n",
    "def find_walk(string):\n",
    "    if 'walk' in string:\n",
    "        return 'walk'\n",
    "    else:\n",
    "        return np.nan"
   ]
  },
  {
   "cell_type": "code",
   "execution_count": 7,
   "metadata": {},
   "outputs": [
    {
     "data": {
      "text/html": [
       "<div>\n",
       "<style scoped>\n",
       "    .dataframe tbody tr th:only-of-type {\n",
       "        vertical-align: middle;\n",
       "    }\n",
       "\n",
       "    .dataframe tbody tr th {\n",
       "        vertical-align: top;\n",
       "    }\n",
       "\n",
       "    .dataframe thead th {\n",
       "        text-align: right;\n",
       "    }\n",
       "</style>\n",
       "<table border=\"1\" class=\"dataframe\">\n",
       "  <thead>\n",
       "    <tr style=\"text-align: right;\">\n",
       "      <th></th>\n",
       "      <th>name</th>\n",
       "      <th>rating</th>\n",
       "      <th>review_count</th>\n",
       "      <th>indiv_score</th>\n",
       "      <th>text</th>\n",
       "    </tr>\n",
       "  </thead>\n",
       "  <tbody>\n",
       "    <tr>\n",
       "      <th>4</th>\n",
       "      <td>4S Patriot Park</td>\n",
       "      <td>4.5</td>\n",
       "      <td>16</td>\n",
       "      <td>5</td>\n",
       "      <td>walk</td>\n",
       "    </tr>\n",
       "    <tr>\n",
       "      <th>5</th>\n",
       "      <td>4S Patriot Park</td>\n",
       "      <td>4.5</td>\n",
       "      <td>16</td>\n",
       "      <td>5</td>\n",
       "      <td>walk</td>\n",
       "    </tr>\n",
       "    <tr>\n",
       "      <th>6</th>\n",
       "      <td>4S Patriot Park</td>\n",
       "      <td>4.5</td>\n",
       "      <td>16</td>\n",
       "      <td>3</td>\n",
       "      <td>walk</td>\n",
       "    </tr>\n",
       "    <tr>\n",
       "      <th>19</th>\n",
       "      <td>A National Salute to Bob Hope &amp; the Military</td>\n",
       "      <td>4.5</td>\n",
       "      <td>43</td>\n",
       "      <td>4</td>\n",
       "      <td>walk</td>\n",
       "    </tr>\n",
       "    <tr>\n",
       "      <th>65</th>\n",
       "      <td>Allied Gardens Recreational Center</td>\n",
       "      <td>3.0</td>\n",
       "      <td>5</td>\n",
       "      <td>4</td>\n",
       "      <td>walk</td>\n",
       "    </tr>\n",
       "    <tr>\n",
       "      <th>...</th>\n",
       "      <td>...</td>\n",
       "      <td>...</td>\n",
       "      <td>...</td>\n",
       "      <td>...</td>\n",
       "      <td>...</td>\n",
       "    </tr>\n",
       "    <tr>\n",
       "      <th>2283</th>\n",
       "      <td>Water Conservation Garden</td>\n",
       "      <td>4.5</td>\n",
       "      <td>47</td>\n",
       "      <td>5</td>\n",
       "      <td>walk</td>\n",
       "    </tr>\n",
       "    <tr>\n",
       "      <th>2284</th>\n",
       "      <td>Waterfront Park</td>\n",
       "      <td>4.5</td>\n",
       "      <td>242</td>\n",
       "      <td>5</td>\n",
       "      <td>walk</td>\n",
       "    </tr>\n",
       "    <tr>\n",
       "      <th>2294</th>\n",
       "      <td>Western Hills Park</td>\n",
       "      <td>3.5</td>\n",
       "      <td>22</td>\n",
       "      <td>4</td>\n",
       "      <td>walk</td>\n",
       "    </tr>\n",
       "    <tr>\n",
       "      <th>2311</th>\n",
       "      <td>Windansea Beach</td>\n",
       "      <td>4.5</td>\n",
       "      <td>189</td>\n",
       "      <td>3</td>\n",
       "      <td>walk</td>\n",
       "    </tr>\n",
       "    <tr>\n",
       "      <th>2324</th>\n",
       "      <td>Zeglio Custom Clothiers</td>\n",
       "      <td>5.0</td>\n",
       "      <td>25</td>\n",
       "      <td>5</td>\n",
       "      <td>walk</td>\n",
       "    </tr>\n",
       "  </tbody>\n",
       "</table>\n",
       "<p>164 rows × 5 columns</p>\n",
       "</div>"
      ],
      "text/plain": [
       "                                              name  rating  review_count  \\\n",
       "4                                  4S Patriot Park     4.5            16   \n",
       "5                                  4S Patriot Park     4.5            16   \n",
       "6                                  4S Patriot Park     4.5            16   \n",
       "19    A National Salute to Bob Hope & the Military     4.5            43   \n",
       "65              Allied Gardens Recreational Center     3.0             5   \n",
       "...                                            ...     ...           ...   \n",
       "2283                     Water Conservation Garden     4.5            47   \n",
       "2284                               Waterfront Park     4.5           242   \n",
       "2294                            Western Hills Park     3.5            22   \n",
       "2311                               Windansea Beach     4.5           189   \n",
       "2324                       Zeglio Custom Clothiers     5.0            25   \n",
       "\n",
       "      indiv_score  text  \n",
       "4               5  walk  \n",
       "5               5  walk  \n",
       "6               3  walk  \n",
       "19              4  walk  \n",
       "65              4  walk  \n",
       "...           ...   ...  \n",
       "2283            5  walk  \n",
       "2284            5  walk  \n",
       "2294            4  walk  \n",
       "2311            3  walk  \n",
       "2324            5  walk  \n",
       "\n",
       "[164 rows x 5 columns]"
      ]
     },
     "execution_count": 7,
     "metadata": {},
     "output_type": "execute_result"
    }
   ],
   "source": [
    "# apply find_walk and drop unrelated entries\n",
    "df['text'] = df['text'].apply(find_walk)\n",
    "df = df.dropna(subset=['text'])\n",
    "\n",
    "# I also chose to drop entries with low review counts. I chose 5 because the rating is a 5-point scale\n",
    "df = df[df['review_count'] >= 5]\n",
    "df"
   ]
  },
  {
   "cell_type": "markdown",
   "metadata": {},
   "source": [
    "# Data Analysis & Results"
   ]
  },
  {
   "cell_type": "markdown",
   "metadata": {},
   "source": [
    "First, I checked the amount of ratings each park was receiving, then checked the amount of individual scores at each value."
   ]
  },
  {
   "cell_type": "code",
   "execution_count": 8,
   "metadata": {},
   "outputs": [
    {
     "data": {
      "text/html": [
       "<div>\n",
       "<style scoped>\n",
       "    .dataframe tbody tr th:only-of-type {\n",
       "        vertical-align: middle;\n",
       "    }\n",
       "\n",
       "    .dataframe tbody tr th {\n",
       "        vertical-align: top;\n",
       "    }\n",
       "\n",
       "    .dataframe thead th {\n",
       "        text-align: right;\n",
       "    }\n",
       "</style>\n",
       "<table border=\"1\" class=\"dataframe\">\n",
       "  <thead>\n",
       "    <tr style=\"text-align: right;\">\n",
       "      <th></th>\n",
       "      <th>name</th>\n",
       "      <th>rating</th>\n",
       "      <th>review_count</th>\n",
       "      <th>indiv_score</th>\n",
       "      <th>text</th>\n",
       "      <th>ordered_parks</th>\n",
       "    </tr>\n",
       "  </thead>\n",
       "  <tbody>\n",
       "    <tr>\n",
       "      <th>817</th>\n",
       "      <td>Horton Plaza- Westfield Parking</td>\n",
       "      <td>1.5</td>\n",
       "      <td>275</td>\n",
       "      <td>1</td>\n",
       "      <td>walk</td>\n",
       "      <td>0</td>\n",
       "    </tr>\n",
       "    <tr>\n",
       "      <th>1053</th>\n",
       "      <td>Loma Village</td>\n",
       "      <td>2.5</td>\n",
       "      <td>23</td>\n",
       "      <td>1</td>\n",
       "      <td>walk</td>\n",
       "      <td>1</td>\n",
       "    </tr>\n",
       "    <tr>\n",
       "      <th>76</th>\n",
       "      <td>Angelo Italy Formal Wear</td>\n",
       "      <td>2.5</td>\n",
       "      <td>31</td>\n",
       "      <td>1</td>\n",
       "      <td>walk</td>\n",
       "      <td>2</td>\n",
       "    </tr>\n",
       "    <tr>\n",
       "      <th>813</th>\n",
       "      <td>Horton Plaza Park</td>\n",
       "      <td>3.0</td>\n",
       "      <td>47</td>\n",
       "      <td>5</td>\n",
       "      <td>walk</td>\n",
       "      <td>3</td>\n",
       "    </tr>\n",
       "    <tr>\n",
       "      <th>766</th>\n",
       "      <td>Harry Griffen Park</td>\n",
       "      <td>3.0</td>\n",
       "      <td>26</td>\n",
       "      <td>5</td>\n",
       "      <td>walk</td>\n",
       "      <td>4</td>\n",
       "    </tr>\n",
       "    <tr>\n",
       "      <th>...</th>\n",
       "      <td>...</td>\n",
       "      <td>...</td>\n",
       "      <td>...</td>\n",
       "      <td>...</td>\n",
       "      <td>...</td>\n",
       "      <td>...</td>\n",
       "    </tr>\n",
       "    <tr>\n",
       "      <th>1889</th>\n",
       "      <td>Solana Ranch Park</td>\n",
       "      <td>5.0</td>\n",
       "      <td>6</td>\n",
       "      <td>5</td>\n",
       "      <td>walk</td>\n",
       "      <td>159</td>\n",
       "    </tr>\n",
       "    <tr>\n",
       "      <th>1287</th>\n",
       "      <td>Mushroom House</td>\n",
       "      <td>5.0</td>\n",
       "      <td>8</td>\n",
       "      <td>5</td>\n",
       "      <td>walk</td>\n",
       "      <td>160</td>\n",
       "    </tr>\n",
       "    <tr>\n",
       "      <th>1822</th>\n",
       "      <td>Self Realization Fellowship Hermitage &amp; Medita...</td>\n",
       "      <td>5.0</td>\n",
       "      <td>345</td>\n",
       "      <td>5</td>\n",
       "      <td>walk</td>\n",
       "      <td>161</td>\n",
       "    </tr>\n",
       "    <tr>\n",
       "      <th>312</th>\n",
       "      <td>Cat Jetty</td>\n",
       "      <td>5.0</td>\n",
       "      <td>12</td>\n",
       "      <td>5</td>\n",
       "      <td>walk</td>\n",
       "      <td>162</td>\n",
       "    </tr>\n",
       "    <tr>\n",
       "      <th>2324</th>\n",
       "      <td>Zeglio Custom Clothiers</td>\n",
       "      <td>5.0</td>\n",
       "      <td>25</td>\n",
       "      <td>5</td>\n",
       "      <td>walk</td>\n",
       "      <td>163</td>\n",
       "    </tr>\n",
       "  </tbody>\n",
       "</table>\n",
       "<p>164 rows × 6 columns</p>\n",
       "</div>"
      ],
      "text/plain": [
       "                                                   name  rating  review_count  \\\n",
       "817                     Horton Plaza- Westfield Parking     1.5           275   \n",
       "1053                                       Loma Village     2.5            23   \n",
       "76                             Angelo Italy Formal Wear     2.5            31   \n",
       "813                                   Horton Plaza Park     3.0            47   \n",
       "766                                  Harry Griffen Park     3.0            26   \n",
       "...                                                 ...     ...           ...   \n",
       "1889                                  Solana Ranch Park     5.0             6   \n",
       "1287                                     Mushroom House     5.0             8   \n",
       "1822  Self Realization Fellowship Hermitage & Medita...     5.0           345   \n",
       "312                                           Cat Jetty     5.0            12   \n",
       "2324                            Zeglio Custom Clothiers     5.0            25   \n",
       "\n",
       "      indiv_score  text  ordered_parks  \n",
       "817             1  walk              0  \n",
       "1053            1  walk              1  \n",
       "76              1  walk              2  \n",
       "813             5  walk              3  \n",
       "766             5  walk              4  \n",
       "...           ...   ...            ...  \n",
       "1889            5  walk            159  \n",
       "1287            5  walk            160  \n",
       "1822            5  walk            161  \n",
       "312             5  walk            162  \n",
       "2324            5  walk            163  \n",
       "\n",
       "[164 rows x 6 columns]"
      ]
     },
     "execution_count": 8,
     "metadata": {},
     "output_type": "execute_result"
    }
   ],
   "source": [
    "# I added an extra column to make graphs look nicer\n",
    "df_sorted = df.sort_values(by=['rating'])\n",
    "df_sorted['ordered_parks'] = np.arange(0,len(df.index))\n",
    "df_sorted"
   ]
  },
  {
   "cell_type": "code",
   "execution_count": 9,
   "metadata": {},
   "outputs": [
    {
     "data": {
      "text/plain": [
       "<matplotlib.axes._subplots.AxesSubplot at 0x1559df896c8>"
      ]
     },
     "execution_count": 9,
     "metadata": {},
     "output_type": "execute_result"
    },
    {
     "data": {
      "image/png": "[encoded data removed]",
      "text/plain": [
       "<Figure size 432x288 with 1 Axes>"
      ]
     },
     "metadata": {
      "needs_background": "light"
     },
     "output_type": "display_data"
    }
   ],
   "source": [
    "sns.scatterplot(x=df_sorted['ordered_parks'], y=df_sorted['rating'])"
   ]
  },
  {
   "cell_type": "code",
   "execution_count": 10,
   "metadata": {},
   "outputs": [
    {
     "data": {
      "text/plain": [
       "<matplotlib.axes._subplots.AxesSubplot at 0x1559e180088>"
      ]
     },
     "execution_count": 10,
     "metadata": {},
     "output_type": "execute_result"
    },
    {
     "data": {
      "image/png": "[encoded data removed]",
      "text/plain": [
       "<Figure size 432x288 with 1 Axes>"
      ]
     },
     "metadata": {
      "needs_background": "light"
     },
     "output_type": "display_data"
    }
   ],
   "source": [
    "sns.scatterplot(x=df_sorted['ordered_parks'], y=df_sorted['indiv_score'])"
   ]
  },
  {
   "cell_type": "markdown",
   "metadata": {},
   "source": [
    "At first glance, it would appear that people who mentioned walking tend to rate higher than the average review, however this is not enough to formulate a conclusion. I should also check how individual scores compare to the average review in general."
   ]
  },
  {
   "cell_type": "code",
   "execution_count": 11,
   "metadata": {},
   "outputs": [
    {
     "name": "stderr",
     "output_type": "stream",
     "text": [
      "C:\\Users\\Matt\\miniconda3\\lib\\site-packages\\seaborn\\distributions.py:2551: FutureWarning: `distplot` is a deprecated function and will be removed in a future version. Please adapt your code to use either `displot` (a figure-level function with similar flexibility) or `histplot` (an axes-level function for histograms).\n",
      "  warnings.warn(msg, FutureWarning)\n"
     ]
    },
    {
     "data": {
      "text/plain": [
       "<matplotlib.axes._subplots.AxesSubplot at 0x1559e255508>"
      ]
     },
     "execution_count": 11,
     "metadata": {},
     "output_type": "execute_result"
    },
    {
     "data": {
      "image/png": "[encoded data removed]",
      "text/plain": [
       "<Figure size 432x288 with 1 Axes>"
      ]
     },
     "metadata": {
      "needs_background": "light"
     },
     "output_type": "display_data"
    }
   ],
   "source": [
    "sns.distplot(a=df_reviews['indiv_score'], kde = False)"
   ]
  },
  {
   "cell_type": "code",
   "execution_count": 12,
   "metadata": {},
   "outputs": [
    {
     "data": {
      "text/plain": [
       "<matplotlib.axes._subplots.AxesSubplot at 0x1559e317f88>"
      ]
     },
     "execution_count": 12,
     "metadata": {},
     "output_type": "execute_result"
    },
    {
     "data": {
      "image/png": "[encoded data removed]",
      "text/plain": [
       "<Figure size 432x288 with 1 Axes>"
      ]
     },
     "metadata": {
      "needs_background": "light"
     },
     "output_type": "display_data"
    }
   ],
   "source": [
    "sns.distplot(a=df_parks['rating'], kde = False)"
   ]
  },
  {
   "cell_type": "markdown",
   "metadata": {},
   "source": [
    "So it seems that individual reviews have a high tendancy to rate a score of 5, or, at the very least, the individual reviews chosen for this dataset (i.e. reviews that have usable writing in them) tend to give a score of 5."
   ]
  },
  {
   "cell_type": "markdown",
   "metadata": {},
   "source": [
    "# Ethics & Privacy"
   ]
  },
  {
   "cell_type": "markdown",
   "metadata": {},
   "source": [
    "All names and any identifying personal information from the Yelp reviewers whose text I used was removed, and all text other than the word \"walk\" that I searched for was removed, though it probably should have been removed prior to using the data in this analysis so that absolutely no personal information would be present.\n",
    "\n",
    "Furthermore, using walks in the park as an evaluation here denies consideration for disabled people. If this analysis is to be taken as a suggestion to keep walkability in mind, it should also come with proper accomodations for accessibility, as parks especially should be a place for anyone to use.\n",
    "\n",
    "As a last note, I should acknowledge that the method I used to analyize this topic is somewhat simple and would fail to catch a few important cases. Firstly, I noticed that some reviews were for locations unrelated to parks and recreation, but would still be caught when searching for mentions of the word \"walk\" due to the variety of ways the word can be used (\"walk-in\" for example). These same cases would show up for recreational centers that were included, which fall outside the subset I was trying to analyze (parks). Additionally, my usage of a single word to signal for a person's intentions or feelings is not very concrete evidence, meaning I probably should have used a dataset more suited to the question I was trying to answer."
   ]
  },
  {
   "cell_type": "markdown",
   "metadata": {},
   "source": [
    "# Conclusion & Discussion"
   ]
  },
  {
   "cell_type": "markdown",
   "metadata": {},
   "source": [
    "While there appears to be a potential increase in satisfaction based on park walkability, I cannot confirm that this actually is the case with the data I used. In addition to the confounds listed above, the scale of the Yelp review does not allow me to truly see how walkability improved the experience of the visitor, as the scale ends at 5 and a large amount of the reviews had that maximum score.\n",
    "\n",
    "It also seems that the type of review that can give the data I was trying to use may just come from people who had an enjoyable experience. It could be that someone who is less verbose or less coherent may be less likely to give a perfect score, and my data does not include those people.\n",
    "\n",
    "If there is one conclusion I would like to make from this attempt, it would be that Yelp reviews are possibly not a very good indicator of success. There are several external things that can influence the score of a Yelp review, and a possible further study would be those relationships. However, if I wanted to return to this question, it likely should be with a different dataset."
   ]
  },
  {
   "cell_type": "code",
   "execution_count": null,
   "metadata": {},
   "outputs": [],
   "source": []
  }
 ],
 "metadata": {
  "kernelspec": {
   "display_name": "Python 3",
   "language": "python",
   "name": "python3"
  },
  "language_info": {
   "codemirror_mode": {
    "name": "ipython",
    "version": 3
   },
   "file_extension": ".py",
   "mimetype": "text/x-python",
   "name": "python",
   "nbconvert_exporter": "python",
   "pygments_lexer": "ipython3",
   "version": "3.7.7"
  }
 },
 "nbformat": 4,
 "nbformat_minor": 2
}
